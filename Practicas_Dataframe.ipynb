{
 "cells": [
  {
   "cell_type": "code",
   "execution_count": 8,
   "id": "b34296bd-a04c-42c0-9daf-ab8d2689b80d",
   "metadata": {},
   "outputs": [],
   "source": [
    "import pandas as pd"
   ]
  },
  {
   "cell_type": "code",
   "execution_count": null,
   "id": "3d71bf99-66e5-498b-8874-4127145ba6fe",
   "metadata": {},
   "outputs": [],
   "source": []
  },
  {
   "cell_type": "code",
   "execution_count": 11,
   "id": "6f048c14-2426-4618-9cc7-5ed57219caed",
   "metadata": {},
   "outputs": [],
   "source": [
    "data_oil = pd.read_csv ( r'C:\\Users\\leomendez\\Downloads\\crude-oil-price.csv', sep=',')"
   ]
  },
  {
   "cell_type": "markdown",
   "id": "478e9fb8-f046-45b5-91a0-a1c6667ac1fc",
   "metadata": {},
   "source": [
    "Eliminar filas que contienen al menos un valor nulo"
   ]
  },
  {
   "cell_type": "raw",
   "id": "94b5d0eb-81a9-4f5a-942e-ac01ed3107dc",
   "metadata": {},
   "source": [
    "# <shape para ver las dimensiones del dataframe o el array>"
   ]
  },
  {
   "cell_type": "code",
   "execution_count": 14,
   "id": "da89704f-ca46-41ab-9220-35dc84c1c1c5",
   "metadata": {},
   "outputs": [
    {
     "data": {
      "text/plain": [
       "(509, 4)"
      ]
     },
     "execution_count": 14,
     "metadata": {},
     "output_type": "execute_result"
    }
   ],
   "source": [
    "data_oil.shape"
   ]
  },
  {
   "cell_type": "code",
   "execution_count": 16,
   "id": "a6d561f0-f1ba-4b83-9413-2d47e1b3d5dd",
   "metadata": {},
   "outputs": [
    {
     "data": {
      "text/html": [
       "<div>\n",
       "<style scoped>\n",
       "    .dataframe tbody tr th:only-of-type {\n",
       "        vertical-align: middle;\n",
       "    }\n",
       "\n",
       "    .dataframe tbody tr th {\n",
       "        vertical-align: top;\n",
       "    }\n",
       "\n",
       "    .dataframe thead th {\n",
       "        text-align: right;\n",
       "    }\n",
       "</style>\n",
       "<table border=\"1\" class=\"dataframe\">\n",
       "  <thead>\n",
       "    <tr style=\"text-align: right;\">\n",
       "      <th></th>\n",
       "      <th>date</th>\n",
       "      <th>price</th>\n",
       "      <th>percentChange</th>\n",
       "      <th>change</th>\n",
       "    </tr>\n",
       "  </thead>\n",
       "  <tbody>\n",
       "    <tr>\n",
       "      <th>0</th>\n",
       "      <td>1983-03-01 00:00:00+00:00</td>\n",
       "      <td>29.2700</td>\n",
       "      <td>NaN</td>\n",
       "      <td>NaN</td>\n",
       "    </tr>\n",
       "    <tr>\n",
       "      <th>1</th>\n",
       "      <td>1983-04-01 00:00:00+00:00</td>\n",
       "      <td>30.6300</td>\n",
       "      <td>4.646</td>\n",
       "      <td>1.3600</td>\n",
       "    </tr>\n",
       "    <tr>\n",
       "      <th>2</th>\n",
       "      <td>1983-05-01 00:00:00+00:00</td>\n",
       "      <td>30.2500</td>\n",
       "      <td>-1.241</td>\n",
       "      <td>-0.3800</td>\n",
       "    </tr>\n",
       "    <tr>\n",
       "      <th>3</th>\n",
       "      <td>1983-06-01 00:00:00+00:00</td>\n",
       "      <td>31.3800</td>\n",
       "      <td>3.736</td>\n",
       "      <td>1.1300</td>\n",
       "    </tr>\n",
       "    <tr>\n",
       "      <th>4</th>\n",
       "      <td>1983-07-01 00:00:00+00:00</td>\n",
       "      <td>32.0000</td>\n",
       "      <td>1.976</td>\n",
       "      <td>0.6200</td>\n",
       "    </tr>\n",
       "    <tr>\n",
       "      <th>...</th>\n",
       "      <td>...</td>\n",
       "      <td>...</td>\n",
       "      <td>...</td>\n",
       "      <td>...</td>\n",
       "    </tr>\n",
       "    <tr>\n",
       "      <th>504</th>\n",
       "      <td>2025-03-01 00:00:00+00:00</td>\n",
       "      <td>71.4800</td>\n",
       "      <td>2.466</td>\n",
       "      <td>1.7200</td>\n",
       "    </tr>\n",
       "    <tr>\n",
       "      <th>505</th>\n",
       "      <td>2025-04-01 00:00:00+00:00</td>\n",
       "      <td>58.2100</td>\n",
       "      <td>-18.565</td>\n",
       "      <td>-13.2700</td>\n",
       "    </tr>\n",
       "    <tr>\n",
       "      <th>506</th>\n",
       "      <td>2025-05-01 00:00:00+00:00</td>\n",
       "      <td>60.7900</td>\n",
       "      <td>4.432</td>\n",
       "      <td>2.5800</td>\n",
       "    </tr>\n",
       "    <tr>\n",
       "      <th>507</th>\n",
       "      <td>2025-06-01 00:00:00+00:00</td>\n",
       "      <td>65.1100</td>\n",
       "      <td>7.106</td>\n",
       "      <td>4.3200</td>\n",
       "    </tr>\n",
       "    <tr>\n",
       "      <th>508</th>\n",
       "      <td>2025-07-01 00:00:00+00:00</td>\n",
       "      <td>70.3608</td>\n",
       "      <td>8.065</td>\n",
       "      <td>5.2508</td>\n",
       "    </tr>\n",
       "  </tbody>\n",
       "</table>\n",
       "<p>509 rows × 4 columns</p>\n",
       "</div>"
      ],
      "text/plain": [
       "                          date    price  percentChange   change\n",
       "0    1983-03-01 00:00:00+00:00  29.2700            NaN      NaN\n",
       "1    1983-04-01 00:00:00+00:00  30.6300          4.646   1.3600\n",
       "2    1983-05-01 00:00:00+00:00  30.2500         -1.241  -0.3800\n",
       "3    1983-06-01 00:00:00+00:00  31.3800          3.736   1.1300\n",
       "4    1983-07-01 00:00:00+00:00  32.0000          1.976   0.6200\n",
       "..                         ...      ...            ...      ...\n",
       "504  2025-03-01 00:00:00+00:00  71.4800          2.466   1.7200\n",
       "505  2025-04-01 00:00:00+00:00  58.2100        -18.565 -13.2700\n",
       "506  2025-05-01 00:00:00+00:00  60.7900          4.432   2.5800\n",
       "507  2025-06-01 00:00:00+00:00  65.1100          7.106   4.3200\n",
       "508  2025-07-01 00:00:00+00:00  70.3608          8.065   5.2508\n",
       "\n",
       "[509 rows x 4 columns]"
      ]
     },
     "execution_count": 16,
     "metadata": {},
     "output_type": "execute_result"
    }
   ],
   "source": [
    "data_oil"
   ]
  },
  {
   "cell_type": "code",
   "execution_count": 18,
   "id": "5cd1cb30-1756-4944-900c-fd00eb787de8",
   "metadata": {},
   "outputs": [
    {
     "data": {
      "text/plain": [
       "date              object\n",
       "price            float64\n",
       "percentChange    float64\n",
       "change           float64\n",
       "dtype: object"
      ]
     },
     "execution_count": 18,
     "metadata": {},
     "output_type": "execute_result"
    }
   ],
   "source": [
    "data_oil.dtypes\n"
   ]
  },
  {
   "cell_type": "code",
   "execution_count": 24,
   "id": "fdb81cab-e617-44ae-b0b6-b868d0dc3125",
   "metadata": {},
   "outputs": [],
   "source": [
    "# Con fillna() se convierten los vacios en 0\n",
    "df_filled = data_oil.fillna(0)"
   ]
  },
  {
   "cell_type": "code",
   "execution_count": 22,
   "id": "f1a2b5e2-7371-48fe-9599-e3148bac0b97",
   "metadata": {},
   "outputs": [
    {
     "data": {
      "text/html": [
       "<div>\n",
       "<style scoped>\n",
       "    .dataframe tbody tr th:only-of-type {\n",
       "        vertical-align: middle;\n",
       "    }\n",
       "\n",
       "    .dataframe tbody tr th {\n",
       "        vertical-align: top;\n",
       "    }\n",
       "\n",
       "    .dataframe thead th {\n",
       "        text-align: right;\n",
       "    }\n",
       "</style>\n",
       "<table border=\"1\" class=\"dataframe\">\n",
       "  <thead>\n",
       "    <tr style=\"text-align: right;\">\n",
       "      <th></th>\n",
       "      <th>date</th>\n",
       "      <th>price</th>\n",
       "      <th>percentChange</th>\n",
       "      <th>change</th>\n",
       "    </tr>\n",
       "  </thead>\n",
       "  <tbody>\n",
       "    <tr>\n",
       "      <th>0</th>\n",
       "      <td>1983-03-01 00:00:00+00:00</td>\n",
       "      <td>29.2700</td>\n",
       "      <td>0.000</td>\n",
       "      <td>0.0000</td>\n",
       "    </tr>\n",
       "    <tr>\n",
       "      <th>1</th>\n",
       "      <td>1983-04-01 00:00:00+00:00</td>\n",
       "      <td>30.6300</td>\n",
       "      <td>4.646</td>\n",
       "      <td>1.3600</td>\n",
       "    </tr>\n",
       "    <tr>\n",
       "      <th>2</th>\n",
       "      <td>1983-05-01 00:00:00+00:00</td>\n",
       "      <td>30.2500</td>\n",
       "      <td>-1.241</td>\n",
       "      <td>-0.3800</td>\n",
       "    </tr>\n",
       "    <tr>\n",
       "      <th>3</th>\n",
       "      <td>1983-06-01 00:00:00+00:00</td>\n",
       "      <td>31.3800</td>\n",
       "      <td>3.736</td>\n",
       "      <td>1.1300</td>\n",
       "    </tr>\n",
       "    <tr>\n",
       "      <th>4</th>\n",
       "      <td>1983-07-01 00:00:00+00:00</td>\n",
       "      <td>32.0000</td>\n",
       "      <td>1.976</td>\n",
       "      <td>0.6200</td>\n",
       "    </tr>\n",
       "    <tr>\n",
       "      <th>...</th>\n",
       "      <td>...</td>\n",
       "      <td>...</td>\n",
       "      <td>...</td>\n",
       "      <td>...</td>\n",
       "    </tr>\n",
       "    <tr>\n",
       "      <th>504</th>\n",
       "      <td>2025-03-01 00:00:00+00:00</td>\n",
       "      <td>71.4800</td>\n",
       "      <td>2.466</td>\n",
       "      <td>1.7200</td>\n",
       "    </tr>\n",
       "    <tr>\n",
       "      <th>505</th>\n",
       "      <td>2025-04-01 00:00:00+00:00</td>\n",
       "      <td>58.2100</td>\n",
       "      <td>-18.565</td>\n",
       "      <td>-13.2700</td>\n",
       "    </tr>\n",
       "    <tr>\n",
       "      <th>506</th>\n",
       "      <td>2025-05-01 00:00:00+00:00</td>\n",
       "      <td>60.7900</td>\n",
       "      <td>4.432</td>\n",
       "      <td>2.5800</td>\n",
       "    </tr>\n",
       "    <tr>\n",
       "      <th>507</th>\n",
       "      <td>2025-06-01 00:00:00+00:00</td>\n",
       "      <td>65.1100</td>\n",
       "      <td>7.106</td>\n",
       "      <td>4.3200</td>\n",
       "    </tr>\n",
       "    <tr>\n",
       "      <th>508</th>\n",
       "      <td>2025-07-01 00:00:00+00:00</td>\n",
       "      <td>70.3608</td>\n",
       "      <td>8.065</td>\n",
       "      <td>5.2508</td>\n",
       "    </tr>\n",
       "  </tbody>\n",
       "</table>\n",
       "<p>509 rows × 4 columns</p>\n",
       "</div>"
      ],
      "text/plain": [
       "                          date    price  percentChange   change\n",
       "0    1983-03-01 00:00:00+00:00  29.2700          0.000   0.0000\n",
       "1    1983-04-01 00:00:00+00:00  30.6300          4.646   1.3600\n",
       "2    1983-05-01 00:00:00+00:00  30.2500         -1.241  -0.3800\n",
       "3    1983-06-01 00:00:00+00:00  31.3800          3.736   1.1300\n",
       "4    1983-07-01 00:00:00+00:00  32.0000          1.976   0.6200\n",
       "..                         ...      ...            ...      ...\n",
       "504  2025-03-01 00:00:00+00:00  71.4800          2.466   1.7200\n",
       "505  2025-04-01 00:00:00+00:00  58.2100        -18.565 -13.2700\n",
       "506  2025-05-01 00:00:00+00:00  60.7900          4.432   2.5800\n",
       "507  2025-06-01 00:00:00+00:00  65.1100          7.106   4.3200\n",
       "508  2025-07-01 00:00:00+00:00  70.3608          8.065   5.2508\n",
       "\n",
       "[509 rows x 4 columns]"
      ]
     },
     "execution_count": 22,
     "metadata": {},
     "output_type": "execute_result"
    }
   ],
   "source": [
    "df_filled"
   ]
  },
  {
   "cell_type": "code",
   "execution_count": null,
   "id": "c0b6fc54-2f81-44f1-8f0b-c7bf257727b5",
   "metadata": {},
   "outputs": [],
   "source": []
  }
 ],
 "metadata": {
  "kernelspec": {
   "display_name": "Python 3 (ipykernel)",
   "language": "python",
   "name": "python3"
  },
  "language_info": {
   "codemirror_mode": {
    "name": "ipython",
    "version": 3
   },
   "file_extension": ".py",
   "mimetype": "text/x-python",
   "name": "python",
   "nbconvert_exporter": "python",
   "pygments_lexer": "ipython3",
   "version": "3.11.5"
  }
 },
 "nbformat": 4,
 "nbformat_minor": 5
}
