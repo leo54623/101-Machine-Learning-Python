{
 "cells": [
  {
   "cell_type": "code",
   "execution_count": 22,
   "id": "ca879325-b99b-4c4b-b651-3277645aa048",
   "metadata": {},
   "outputs": [],
   "source": [
    "import pandas as pd\n",
    "\n",
    "# Leer las hojas del mismo archivo Excel\n",
    "df1 = pd.read_excel('C:\\\\Users\\\\leomendez\\\\OneDrive\\\\Documentos\\\\07. Proyectos\\\\Compresion y Excepcion\\\\PointSourcePampaPython.xlsx', sheet_name='PointSource')\n",
    "df2 = pd.read_excel('C:\\\\Users\\\\leomendez\\\\OneDrive\\\\Documentos\\\\07. Proyectos\\\\Compresion y Excepcion\\\\PointSourcePampaPython.xlsx', sheet_name='ListaInterfaces')\n",
    "df3 = pd.read_excel('C:\\\\Users\\\\leomendez\\\\OneDrive\\\\Documentos\\\\07. Proyectos\\\\Compresion y Excepcion\\\\PointSourcePampaPython.xlsx', sheet_name='Interfaces')\n",
    "\n",
    "# Combinar por la columna clave 'ID'\n",
    "# df_temp = pd.merge(df1, df2, on='Point Source', how='outer')  # o 'outer', 'left', según necesidad\n",
    "# df_combinada = pd.merge(df_temp, df3, on='Point Source', how='outer')\n",
    "df_combinada = pd.concat([df1, df2], axis=1)\n",
    "\n",
    "# Guardar la tabla combinada en un nuevo archivo\n",
    "df_combinada.to_excel('combinada_por_columnas.xlsx', index=False)\n"
   ]
  },
  {
   "cell_type": "code",
   "execution_count": 34,
   "id": "50285f93-5926-4725-99e9-6c8b6c3cbc7f",
   "metadata": {},
   "outputs": [],
   "source": [
    "import pandas as pd\n",
    "\n",
    "# Leer las hojas del archivo Excel\n",
    "df1 = pd.read_excel(r'C:\\Users\\leomendez\\OneDrive\\Documentos\\07. Proyectos\\Compresion y Excepcion\\PointSourcePampaPython.xlsx', sheet_name='PointSource')\n",
    "df2 = pd.read_excel(r'C:\\Users\\leomendez\\OneDrive\\Documentos\\07. Proyectos\\Compresion y Excepcion\\PointSourcePampaPython.xlsx', sheet_name='ListaInterfaces')\n",
    "df3 = pd.read_excel(r'C:\\Users\\leomendez\\OneDrive\\Documentos\\07. Proyectos\\Compresion y Excepcion\\PointSourcePampaPython.xlsx', sheet_name='Interfaces')\n",
    "\n",
    "for df in [df1, df2, df3]:\n",
    "    df['ServerDA'] = df['ServerDA'].astype(str).str.strip().str.lower()\n",
    "    df['Point Source'] = df['Point Source'].astype(str).str.strip().str.lower()\n",
    "\n",
    "# Combinar por las columnas 'server' y 'Point Source'\n",
    "df_temp = pd.merge(df1, df2, on=['Point Source', 'ServerDA'], how='inner')\n",
    "df_combinada = pd.merge(df_temp, df3, on=['Point Source', 'ServerDA'], how='inner')\n",
    "\n",
    "# Guardar la tabla combinada\n",
    "df_combinada.to_excel(r'C:\\Users\\leomendez\\OneDrive\\Documentos\\07. Proyectos\\Compresion y Excepcion\\combinada_por_dos_columnas.xlsx', index=False)\n"
   ]
  },
  {
   "cell_type": "code",
   "execution_count": 52,
   "id": "5f37f6d8-3ff8-4188-92b5-2e2d899a8ff3",
   "metadata": {},
   "outputs": [],
   "source": [
    "import pandas as pd\n",
    "\n",
    "ruta = r'C:\\Users\\leomendez\\OneDrive\\Documentos\\07. Proyectos\\Compresion y Excepcion\\PointSourcePampaPython.xlsx'\n",
    "\n",
    "# Leer las hojas\n",
    "df1 = pd.read_excel(ruta, sheet_name='PointSource')\n",
    "df2 = pd.read_excel(ruta, sheet_name='ListaInterfaces')\n",
    "df3 = pd.read_excel(ruta, sheet_name='Interfaces')\n",
    "\n",
    "# Normalizar claves\n",
    "for df in [df1, df2, df3]:\n",
    "    df['ServerDA'] = df['ServerDA'].astype(str).str.strip().str.upper()\n",
    "    df['Point Source'] = df['Point Source'].astype(str).str.strip().str.upper()\n",
    "\n",
    "# Usar 'left' join para no perder filas\n",
    "df_temp = pd.merge(df1, df2, on=['ServerDA', 'Point Source'], how='left')\n",
    "df_combinada = pd.merge(df_temp, df3, on=['ServerDA', 'Point Source'], how='left')\n",
    "\n",
    "# Guardar\n",
    "df_combinada.to_excel(r'C:\\Users\\leomendez\\OneDrive\\Documentos\\07. Proyectos\\Compresion y Excepcion\\combinado_left_join.xlsx', index=False)"
   ]
  },
  {
   "cell_type": "code",
   "execution_count": 44,
   "id": "3faaa96e-a244-4d62-8a1f-e3e6cb5412e2",
   "metadata": {},
   "outputs": [
    {
     "name": "stdout",
     "output_type": "stream",
     "text": [
      "df1: ['ServerDA', 'Point Source', 'Number of Points']\n",
      "df2: ['Interface', 'User Set Name', 'ServerDA', 'Interface Node', 'Point Source', 'ID', 'Type', 'Status', 'Startup Type', 'Service Display Name', 'Interface Version', 'APS Connector', 'APS Node', 'Description']\n",
      "df3: ['Fecha Validacion', 'Sitio', 'Proveedor', 'Validacion', 'Monitoreo', 'Estado', 'Validador', 'Interfase Ubicación', 'Forma', 'ServerDA', 'Server Interfaz', 'Point Source', 'Descripción', 'Interface', 'Tipo', 'Versión', 'Unit int version', 'Scan class Frecuency', 'Scan class #', 'Service_Display Name', 'Cuenta', 'PI DA ', 'Sistema Operativo', 'Fuente', 'Interface ID', 'Script', 'Comentarios']\n"
     ]
    }
   ],
   "source": [
    "print(\"df1:\", df1.columns.tolist())\n",
    "print(\"df2:\", df2.columns.tolist())\n",
    "print(\"df3:\", df3.columns.tolist())\n"
   ]
  },
  {
   "cell_type": "code",
   "execution_count": null,
   "id": "1e0e044e-9cfa-48f9-b808-06c45f952f89",
   "metadata": {},
   "outputs": [],
   "source": []
  }
 ],
 "metadata": {
  "kernelspec": {
   "display_name": "Python 3 (ipykernel)",
   "language": "python",
   "name": "python3"
  },
  "language_info": {
   "codemirror_mode": {
    "name": "ipython",
    "version": 3
   },
   "file_extension": ".py",
   "mimetype": "text/x-python",
   "name": "python",
   "nbconvert_exporter": "python",
   "pygments_lexer": "ipython3",
   "version": "3.11.5"
  }
 },
 "nbformat": 4,
 "nbformat_minor": 5
}
