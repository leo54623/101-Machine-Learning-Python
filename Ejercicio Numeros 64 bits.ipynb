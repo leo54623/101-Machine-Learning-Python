{
 "cells": [
  {
   "cell_type": "code",
   "execution_count": null,
   "id": "b98474f8",
   "metadata": {},
   "outputs": [
    {
     "name": "stdout",
     "output_type": "stream",
     "text": [
      "Forma del dataset: (1797, 64)\n",
      "Clases: [0 1 2 3 4 5 6 7 8 9]\n"
     ]
    },
    {
     "data": {
      "image/png": "[encoded data removed]",
      "text/plain": [
       "<Figure size 1000x300 with 5 Axes>"
      ]
     },
     "metadata": {},
     "output_type": "display_data"
    },
    {
     "name": "stdout",
     "output_type": "stream",
     "text": [
      "\n",
      "Matriz de confusión:\n",
      "[[53  0  0  0  0  0  0  0  0  0]\n",
      " [ 0 47  2  0  0  0  0  0  1  0]\n",
      " [ 0  0 47  0  0  0  0  0  0  0]\n",
      " [ 0  0  1 50  0  1  0  0  2  0]\n",
      " [ 0  1  0  0 59  0  0  0  0  0]\n",
      " [ 0  0  0  0  0 63  1  0  0  2]\n",
      " [ 0  0  0  0  0  1 52  0  0  0]\n",
      " [ 0  0  0  0  0  0  0 54  0  1]\n",
      " [ 0  0  0  0  0  1  0  0 42  0]\n",
      " [ 0  0  0  0  0  0  0  0  2 57]]\n",
      "\n",
      "Reporte de clasificación:\n",
      "              precision    recall  f1-score   support\n",
      "\n",
      "           0       1.00      1.00      1.00        53\n",
      "           1       0.98      0.94      0.96        50\n",
      "           2       0.94      1.00      0.97        47\n",
      "           3       1.00      0.93      0.96        54\n",
      "           4       1.00      0.98      0.99        60\n",
      "           5       0.95      0.95      0.95        66\n",
      "           6       0.98      0.98      0.98        53\n",
      "           7       1.00      0.98      0.99        55\n",
      "           8       0.89      0.98      0.93        43\n",
      "           9       0.95      0.97      0.96        59\n",
      "\n",
      "    accuracy                           0.97       540\n",
      "   macro avg       0.97      0.97      0.97       540\n",
      "weighted avg       0.97      0.97      0.97       540\n",
      "\n"
     ]
    }
   ],
   "source": [
    "# 1. Importar librerías\n",
    "from sklearn import datasets\n",
    "from sklearn.model_selection import train_test_split\n",
    "from sklearn.preprocessing import StandardScaler\n",
    "from sklearn.linear_model import LogisticRegression\n",
    "from sklearn.metrics import classification_report, confusion_matrix\n",
    "import matplotlib.pyplot as plt\n",
    "import numpy as np\n",
    "\n",
    "# 2. Cargar dataset (imágenes 8x8 de dígitos)\n",
    "digits = datasets.load_digits()\n",
    "\n",
    "print(f\"Forma del dataset: {digits.data.shape}\")  # 1797 imágenes de 64 píxeles\n",
    "print(f\"Clases: {digits.target_names}\")\n",
    "\n",
    "# 3. Visualizar algunas imágenes\n",
    "indices = np.random.choice(len(digits.images), size=5, replace=False)\n",
    "fig, axes = plt.subplots(1, 5, figsize=(10, 3))\n",
    "for ax, idx in zip(axes, indices):\n",
    "    image = digits.images[idx]\n",
    "    label = digits.target[idx]\n",
    "    ax.imshow(image, cmap=plt.cm.gray_r)\n",
    "    ax.set_title(f'Dígito: {label}')\n",
    "    ax.axis('off')\n",
    "plt.show()\n",
    "\n",
    "# 4. Preparar datos\n",
    "X = digits.data  # aplanado (64 características por imagen)\n",
    "y = digits.target\n",
    "\n",
    "# 5. Separar en entrenamiento y prueba\n",
    "X_train, X_test, y_train, y_test = train_test_split(X, y, test_size=0.3, random_state=42)\n",
    "\n",
    "# 6. Escalar características\n",
    "scaler = StandardScaler()\n",
    "X_train = scaler.fit_transform(X_train)\n",
    "X_test = scaler.transform(X_test)\n",
    "\n",
    "# 7. Modelo: Regresión logística\n",
    "model = LogisticRegression(max_iter=2000)\n",
    "model.fit(X_train, y_train)\n",
    "\n",
    "# 8. Predicciones\n",
    "y_pred = model.predict(X_test)\n",
    "\n",
    "# 9. Evaluación\n",
    "print(\"\\nMatriz de confusión:\")\n",
    "print(confusion_matrix(y_test, y_pred))\n",
    "print(\"\\nReporte de clasificación:\")\n",
    "print(classification_report(y_test, y_pred))"
   ]
  }
 ],
 "metadata": {
  "kernelspec": {
   "display_name": "Python 3",
   "language": "python",
   "name": "python3"
  },
  "language_info": {
   "codemirror_mode": {
    "name": "ipython",
    "version": 3
   },
   "file_extension": ".py",
   "mimetype": "text/x-python",
   "name": "python",
   "nbconvert_exporter": "python",
   "pygments_lexer": "ipython3",
   "version": "3.13.4"
  }
 },
 "nbformat": 4,
 "nbformat_minor": 5
}
