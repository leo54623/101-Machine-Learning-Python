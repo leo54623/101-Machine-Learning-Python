{
 "cells": [
  {
   "cell_type": "code",
   "execution_count": 2,
   "id": "f40b8cb8-1bd1-48b3-8187-a4e9612a1588",
   "metadata": {},
   "outputs": [
    {
     "name": "stdout",
     "output_type": "stream",
     "text": [
      "Collecting iris\n",
      "  Obtaining dependency information for iris from https://files.pythonhosted.org/packages/88/72/9368abe71fd25383a94890ccd80f603dab69c8dbe2af89c2fd4342f5df7a/iris-1.0.7-py2.py3-none-any.whl.metadata\n",
      "  Downloading iris-1.0.7-py2.py3-none-any.whl.metadata (1.4 kB)\n",
      "Downloading iris-1.0.7-py2.py3-none-any.whl (6.2 kB)\n",
      "Installing collected packages: iris\n",
      "Successfully installed iris-1.0.7\n"
     ]
    }
   ],
   "source": [
    "!pip install iris"
   ]
  },
  {
   "cell_type": "code",
   "execution_count": null,
   "id": "cf3b52af-7d2a-4f50-b788-799f7a3cfea6",
   "metadata": {},
   "outputs": [],
   "source": []
  }
 ],
 "metadata": {
  "kernelspec": {
   "display_name": "Python 3 (ipykernel)",
   "language": "python",
   "name": "python3"
  },
  "language_info": {
   "codemirror_mode": {
    "name": "ipython",
    "version": 3
   },
   "file_extension": ".py",
   "mimetype": "text/x-python",
   "name": "python",
   "nbconvert_exporter": "python",
   "pygments_lexer": "ipython3",
   "version": "3.11.5"
  }
 },
 "nbformat": 4,
 "nbformat_minor": 5
}
